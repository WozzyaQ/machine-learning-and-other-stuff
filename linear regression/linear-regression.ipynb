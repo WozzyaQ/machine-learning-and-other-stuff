{
 "cells": [
  {
   "cell_type": "code",
   "execution_count": 1,
   "metadata": {},
   "outputs": [],
   "source": [
    "import numpy as np\n",
    "import random\n",
    "#only for displaying info (look at playground section below)\n",
    "import pandas as pd\n",
    "from matplotlib import pyplot as plt"
   ]
  },
  {
   "cell_type": "code",
   "execution_count": 20,
   "metadata": {},
   "outputs": [],
   "source": [
    "# load train data\n",
    "train_data = np.genfromtxt(\"data_train.csv\", delimiter=\",\")\n",
    "\n",
    "train_x = train_data[:, 1]\n",
    "train_y = train_data[:, 2]\n",
    "\n",
    "\n",
    "# delete nan's\n",
    "train_x = train_x[~np.isnan(train_x)]\n",
    "train_y = train_y[~np.isnan(train_y)]"
   ]
  },
  {
   "cell_type": "code",
   "execution_count": 3,
   "metadata": {},
   "outputs": [],
   "source": [
    "def mean_squared_error(bias, slope, x, y):\n",
    "    return 1/len(x) * np.sum((h_theta(bias, slope, x) - y)**2)"
   ]
  },
  {
   "cell_type": "code",
   "execution_count": 4,
   "metadata": {},
   "outputs": [],
   "source": [
    "def h_theta(bias, slope, x):\n",
    "    return bias + slope*x"
   ]
  },
  {
   "cell_type": "code",
   "execution_count": 5,
   "metadata": {},
   "outputs": [
    {
     "data": {
      "image/png": "[encoded data removed]",
      "text/plain": [
       "<Figure size 432x288 with 1 Axes>"
      ]
     },
     "metadata": {
      "needs_background": "light"
     },
     "output_type": "display_data"
    }
   ],
   "source": [
    "# train data visualization\n",
    "fig, ax = plt.subplots()\n",
    "plt.title(\"Train Data\")\n",
    "ax.scatter(train_x, train_y)\n",
    "plt.show()"
   ]
  },
  {
   "cell_type": "code",
   "execution_count": 6,
   "metadata": {},
   "outputs": [],
   "source": [
    "def gradien_descent_linear_regression(train_x, train_y, learning_rate, theta_tolerance, it_tolerance):\n",
    "    theta_bias = random.uniform(0,1)\n",
    "    theta_slope = random.uniform(0,1)\n",
    "    \n",
    "    MSE_start = mean_squared_error(theta_bias, theta_slope, train_x, train_y)\n",
    "    info_dict = {\n",
    "        'bias': list([theta_bias]),\n",
    "        'slope' : list([theta_slope]),\n",
    "        'MSE' : list([MSE_start])\n",
    "    }\n",
    "    \n",
    "    for i in range(it_tolerance):\n",
    "        \n",
    "        sum_coefficient = learning_rate/len(train_x)\n",
    "        \n",
    "        theta_bias_cur = theta_bias - sum_coefficient * np.sum(h_theta(theta_bias, theta_slope, train_x) - train_y)\n",
    "        theta_slope_cur = theta_slope - sum_coefficient * np.sum((h_theta(theta_bias, theta_slope, train_x) - train_y)*train_x)\n",
    "        \n",
    "        \n",
    "        \n",
    "        MSE = mean_squared_error(theta_bias_cur, theta_slope_cur, train_x, train_y)\n",
    "        \n",
    "        info_dict['bias'].append(theta_bias_cur)\n",
    "        info_dict['slope'].append(theta_slope_cur)\n",
    "        info_dict['MSE'].append(MSE)\n",
    "        \n",
    "        \n",
    "        if abs(theta_bias_cur - theta_bias) < theta_tolerance and abs(theta_slope_cur - theta_slope) < theta_tolerance:\n",
    "            return theta_bias_cur, theta_slope_cur, info_dict\n",
    "\n",
    "       \n",
    "        theta_bias = theta_bias_cur\n",
    "        theta_slope = theta_slope_cur\n",
    "                \n",
    "    \n",
    "    return theta_bias, theta_slope, info_dict"
   ]
  },
  {
   "cell_type": "code",
   "execution_count": 7,
   "metadata": {},
   "outputs": [
    {
     "data": {
      "text/html": [
       "<div>\n",
       "<style scoped>\n",
       "    .dataframe tbody tr th:only-of-type {\n",
       "        vertical-align: middle;\n",
       "    }\n",
       "\n",
       "    .dataframe tbody tr th {\n",
       "        vertical-align: top;\n",
       "    }\n",
       "\n",
       "    .dataframe thead th {\n",
       "        text-align: right;\n",
       "    }\n",
       "</style>\n",
       "<table border=\"1\" class=\"dataframe\">\n",
       "  <thead>\n",
       "    <tr style=\"text-align: right;\">\n",
       "      <th></th>\n",
       "      <th>bias</th>\n",
       "      <th>slope</th>\n",
       "      <th>MSE</th>\n",
       "    </tr>\n",
       "  </thead>\n",
       "  <tbody>\n",
       "    <tr>\n",
       "      <th>8681</th>\n",
       "      <td>19.850522</td>\n",
       "      <td>2.33564</td>\n",
       "      <td>0.076941</td>\n",
       "    </tr>\n",
       "    <tr>\n",
       "      <th>8682</th>\n",
       "      <td>19.850553</td>\n",
       "      <td>2.33554</td>\n",
       "      <td>0.076939</td>\n",
       "    </tr>\n",
       "    <tr>\n",
       "      <th>8683</th>\n",
       "      <td>19.850584</td>\n",
       "      <td>2.33544</td>\n",
       "      <td>0.076937</td>\n",
       "    </tr>\n",
       "    <tr>\n",
       "      <th>8684</th>\n",
       "      <td>19.850614</td>\n",
       "      <td>2.33534</td>\n",
       "      <td>0.076935</td>\n",
       "    </tr>\n",
       "    <tr>\n",
       "      <th>8685</th>\n",
       "      <td>19.850645</td>\n",
       "      <td>2.33524</td>\n",
       "      <td>0.076933</td>\n",
       "    </tr>\n",
       "  </tbody>\n",
       "</table>\n",
       "</div>"
      ],
      "text/plain": [
       "           bias    slope       MSE\n",
       "8681  19.850522  2.33564  0.076941\n",
       "8682  19.850553  2.33554  0.076939\n",
       "8683  19.850584  2.33544  0.076937\n",
       "8684  19.850614  2.33534  0.076935\n",
       "8685  19.850645  2.33524  0.076933"
      ]
     },
     "execution_count": 7,
     "metadata": {},
     "output_type": "execute_result"
    }
   ],
   "source": [
    "# playground \n",
    "\n",
    "#x and y data\n",
    "train_x = train_x \n",
    "train_y = train_y\n",
    "\n",
    "learning_rate = 0.01\n",
    "theta_tolerance = 0.0001\n",
    "iteration_tolerance = 10000\n",
    "\n",
    "\n",
    "bias, slope, info = gradien_descent_linear_regression(train_x, train_y, learning_rate, theta_tolerance, iteration_tolerance)\n",
    "df = pd.DataFrame(info, columns = ['bias', 'slope', 'MSE'])\n",
    "\n",
    "# here you can see all the values\n",
    "df.tail()"
   ]
  },
  {
   "cell_type": "code",
   "execution_count": 14,
   "metadata": {},
   "outputs": [
    {
     "data": {
      "image/png": "[encoded data removed]",
      "text/plain": [
       "<Figure size 432x288 with 1 Axes>"
      ]
     },
     "metadata": {
      "needs_background": "light"
     },
     "output_type": "display_data"
    }
   ],
   "source": [
    "xs = np.array([np.min(train_x), np.max(train_x)])\n",
    "ys = h_theta(bias, slope, xs)\n",
    "\n",
    "\n",
    "fig, ax = plt.subplots()\n",
    "plt.title(\"Train Data & Regression\")\n",
    "ax.scatter(train_x, train_y, label=\"Train Data\")\n",
    "ax.plot(xs,ys, \"r\",label=\"Regression\")\n",
    "ax.legend()\n",
    "\n",
    "plt.show()"
   ]
  },
  {
   "cell_type": "code",
   "execution_count": 15,
   "metadata": {},
   "outputs": [],
   "source": [
    "# load test data\n",
    "test_data = np.genfromtxt(\"data_test.csv\", delimiter=\",\")\n",
    "\n",
    "test_x = test_data[:, 1]\n",
    "test_y = test_data[:, 2]\n",
    "\n",
    "\n",
    "test_x = test_x[~np.isnan(test_x)]\n",
    "test_y = test_y[~np.isnan(test_y)]"
   ]
  },
  {
   "cell_type": "code",
   "execution_count": 16,
   "metadata": {},
   "outputs": [
    {
     "data": {
      "image/png": "[encoded data removed]",
      "text/plain": [
       "<Figure size 432x288 with 1 Axes>"
      ]
     },
     "metadata": {
      "needs_background": "light"
     },
     "output_type": "display_data"
    }
   ],
   "source": [
    "xt = np.array([np.min(test_x), np.max(test_x)])\n",
    "yt = bias + slope*xt\n",
    "\n",
    "fig, ax = plt.subplots()\n",
    "plt.title(\"Regression on test dataset\")\n",
    "plt.plot(xt,yt, \"r\")\n",
    "plt.scatter(test_x, test_y)\n",
    "plt.show()"
   ]
  },
  {
   "cell_type": "code",
   "execution_count": 17,
   "metadata": {},
   "outputs": [
    {
     "name": "stdout",
     "output_type": "stream",
     "text": [
      "MSE OF TEST DATA: 0.09241396777079787\n"
     ]
    }
   ],
   "source": [
    "MSE = mean_squared_error(bias, slope, test_x, test_y)\n",
    "print(F\"MSE OF TEST DATA: {MSE}\")"
   ]
  },
  {
   "cell_type": "code",
   "execution_count": 18,
   "metadata": {},
   "outputs": [
    {
     "data": {
      "image/png": "[encoded data removed]",
      "text/plain": [
       "<Figure size 432x288 with 1 Axes>"
      ]
     },
     "metadata": {
      "needs_background": "light"
     },
     "output_type": "display_data"
    }
   ],
   "source": [
    "\n",
    "result_x = np.array([np.min([np.min(train_x), np.min(test_x)]), np.max([np.max(train_x), np.max(test_x)])])\n",
    "result_y = bias + slope * result_x\n",
    "\n",
    "plt.title(\"Both datasets & Regression\")\n",
    "plt.scatter(train_x, train_y)\n",
    "plt.scatter(test_x, test_y)\n",
    "plt.plot(result_x, result_y, \"k\")\n",
    "plt.show()"
   ]
  },
  {
   "cell_type": "code",
   "execution_count": null,
   "metadata": {},
   "outputs": [],
   "source": []
  },
  {
   "cell_type": "code",
   "execution_count": null,
   "metadata": {},
   "outputs": [],
   "source": []
  }
 ],
 "metadata": {
  "kernelspec": {
   "display_name": "Python 3",
   "language": "python",
   "name": "python3"
  },
  "language_info": {
   "codemirror_mode": {
    "name": "ipython",
    "version": 3
   },
   "file_extension": ".py",
   "mimetype": "text/x-python",
   "name": "python",
   "nbconvert_exporter": "python",
   "pygments_lexer": "ipython3",
   "version": "3.8.5"
  }
 },
 "nbformat": 4,
 "nbformat_minor": 4
}
